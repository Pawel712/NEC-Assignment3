{
 "cells": [
  {
   "cell_type": "code",
   "execution_count": 1,
   "id": "d7daeac1-00ad-4fc1-bc0e-c0c91fb0abdc",
   "metadata": {},
   "outputs": [],
   "source": [
    "import pandas as pd\n",
    "from sklearn.preprocessing import StandardScaler"
   ]
  },
  {
   "cell_type": "code",
   "execution_count": 2,
   "id": "f0654df1-ec02-4246-8f73-d09dda6bb19c",
   "metadata": {},
   "outputs": [],
   "source": [
    "with open('../Datasets/OriginalData/Dataset1Original/A3-dataset1.txt', 'r') as file:\n",
    "    df = pd.read_csv('../Datasets/OriginalData/Dataset1Original/A3-dataset1.txt', sep=',')\n",
    "\n",
    "#z-score normalization except the last column\n",
    "scaler = StandardScaler()\n",
    "df.iloc[:, :-1] = scaler.fit_transform(df.iloc[:, :-1])\n",
    "\n",
    "df.to_csv(\"../Datasets/A3-dataset1Modified.csv\", sep=\",\", index=False)"
   ]
  },
  {
   "cell_type": "code",
   "execution_count": null,
   "id": "ae825941-bc42-41d8-9cb3-3819d43d01a8",
   "metadata": {},
   "outputs": [],
   "source": [
    "print(\"HEJ\")"
   ]
  }
 ],
 "metadata": {
  "kernelspec": {
   "display_name": "Python 3 (ipykernel)",
   "language": "python",
   "name": "python3"
  },
  "language_info": {
   "codemirror_mode": {
    "name": "ipython",
    "version": 3
   },
   "file_extension": ".py",
   "mimetype": "text/x-python",
   "name": "python",
   "nbconvert_exporter": "python",
   "pygments_lexer": "ipython3",
   "version": "3.10.12"
  }
 },
 "nbformat": 4,
 "nbformat_minor": 5
}
