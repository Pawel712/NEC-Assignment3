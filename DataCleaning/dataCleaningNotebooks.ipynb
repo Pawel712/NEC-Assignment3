{
 "cells": [
  {
   "cell_type": "markdown",
   "metadata": {},
   "source": [
    "# Data cleaning script for cleaning datasets\n",
    "This jupyter notebook cleans and normalize the datasets that are used for this assignment.\n",
    "\n",
    "## Processed datasets\n",
    "A3-dataset1.txt --> original file is at location: Datasets/OriginalData/Dataset1Original\n",
    "\n",
    "A3-dryBeans.csv --> original file is at location: Datasets/OriginalData/DryBeansOriginalData\n",
    "\n",
    "## Modified datasets location\n",
    "The output of this script are two files that represent modified datasets\n",
    "\n",
    "A3-dataset1Modified.csv\n",
    "\n",
    "A3-dryBeansModified.csv\n",
    "\n",
    "Which are located at directory Datasets"
   ]
  },
  {
   "cell_type": "code",
   "execution_count": 5,
   "id": "d7daeac1-00ad-4fc1-bc0e-c0c91fb0abdc",
   "metadata": {},
   "outputs": [],
   "source": [
    "import pandas as pd\n",
    "from sklearn.preprocessing import StandardScaler"
   ]
  },
  {
   "cell_type": "code",
   "execution_count": 6,
   "id": "f0654df1-ec02-4246-8f73-d09dda6bb19c",
   "metadata": {},
   "outputs": [],
   "source": [
    "with open('../Datasets/OriginalData/Dataset1Original/A3-dataset1.txt', 'r') as file:\n",
    "    df = pd.read_csv('../Datasets/OriginalData/Dataset1Original/A3-dataset1.txt', sep=',')\n",
    "\n",
    "#z-score normalization except the last column\n",
    "scaler = StandardScaler()\n",
    "df.iloc[:, :-1] = scaler.fit_transform(df.iloc[:, :-1])\n",
    "\n",
    "df.to_csv(\"../Datasets/A3-dataset1Modified.csv\", sep=\",\", index=False)"
   ]
  },
  {
   "cell_type": "code",
   "execution_count": 8,
   "metadata": {},
   "outputs": [],
   "source": [
    "with open('../Datasets/OriginalData/DryBeansOriginalData/A3-dryBeans.csv', 'r') as file:\n",
    "    df = pd.read_csv('../Datasets/OriginalData/DryBeansOriginalData/A3-dryBeans.csv', sep=',')\n",
    "\n",
    "#Replacing the class names with numbers\n",
    "df['Class'] = df['Class'].replace({'SEKER': 0, 'BARBUNYA': 1, 'BOMBAY': 2, 'CALI': 3, 'DERMASON': 4, 'HOROZ': 5, 'SIRA': 6})\n",
    "\n",
    "#z-score normalization except the last column\n",
    "scaler = StandardScaler()\n",
    "df.iloc[:, :-1] = scaler.fit_transform(df.iloc[:, :-1])\n",
    "\n",
    "df.to_csv(\"../Datasets/A3-dryBeansModified.csv\", sep=\",\", index=False)"
   ]
  }
 ],
 "metadata": {
  "kernelspec": {
   "display_name": "Python 3 (ipykernel)",
   "language": "python",
   "name": "python3"
  },
  "language_info": {
   "codemirror_mode": {
    "name": "ipython",
    "version": 3
   },
   "file_extension": ".py",
   "mimetype": "text/x-python",
   "name": "python",
   "nbconvert_exporter": "python",
   "pygments_lexer": "ipython3",
   "version": "3.10.12"
  }
 },
 "nbformat": 4,
 "nbformat_minor": 5
}
